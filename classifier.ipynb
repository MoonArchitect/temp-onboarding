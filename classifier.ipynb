{
 "cells": [
  {
   "cell_type": "code",
   "execution_count": 1,
   "metadata": {},
   "outputs": [],
   "source": [
    "from torchvision import datasets, transforms\n",
    "import torch\n",
    "from torch.utils.data import DataLoader"
   ]
  },
  {
   "cell_type": "code",
   "execution_count": 2,
   "metadata": {},
   "outputs": [],
   "source": [
    "data = datasets.MNIST(download=True, root=\"./data/\", train=True)"
   ]
  },
  {
   "cell_type": "code",
   "execution_count": 46,
   "metadata": {},
   "outputs": [],
   "source": [
    "transform=transforms.Compose([\n",
    "    transforms.ToTensor(),\n",
    "    transforms.Normalize((0.1307,), (0.3081,))\n",
    "])\n",
    "\n",
    "train_split = datasets.MNIST(root=\"./data/\", train=True, transform=transform)\n",
    "test_split = datasets.MNIST(root=\"./data/\", train=False, transform=transform)\n",
    "\n",
    "train_loader = DataLoader(train_split, batch_size=256, shuffle=True)\n",
    "test_loader = DataLoader(test_split, batch_size=64)"
   ]
  },
  {
   "cell_type": "code",
   "execution_count": 4,
   "metadata": {},
   "outputs": [],
   "source": [
    "import torch.nn as nn"
   ]
  },
  {
   "cell_type": "code",
   "execution_count": 27,
   "metadata": {},
   "outputs": [
    {
     "data": {
      "text/plain": [
       "Net(\n",
       "  (conv1): Conv2d(1, 32, kernel_size=(3, 3), stride=(1, 1))\n",
       "  (conv2): Conv2d(32, 64, kernel_size=(3, 3), stride=(1, 1))\n",
       "  (dropout1): Dropout(p=0.25, inplace=False)\n",
       "  (dropout2): Dropout(p=0.5, inplace=False)\n",
       "  (fc1): Linear(in_features=9216, out_features=128, bias=True)\n",
       "  (fc2): Linear(in_features=128, out_features=10, bias=True)\n",
       "  (relu): ReLU()\n",
       "  (pool): MaxPool2d(kernel_size=2, stride=2, padding=0, dilation=1, ceil_mode=False)\n",
       "  (logsoftmax): LogSoftmax(dim=1)\n",
       ")"
      ]
     },
     "execution_count": 27,
     "metadata": {},
     "output_type": "execute_result"
    }
   ],
   "source": [
    "class Net(nn.Module):\n",
    "    def __init__(self):\n",
    "        super(Net, self).__init__()\n",
    "        self.conv1 = nn.Conv2d(1, 32, 3, 1)\n",
    "        self.conv2 = nn.Conv2d(32, 64, 3, 1)\n",
    "        self.dropout1 = nn.Dropout(0.25)\n",
    "        self.dropout2 = nn.Dropout(0.5)\n",
    "        self.fc1 = nn.Linear(9216, 128)\n",
    "        self.fc2 = nn.Linear(128, 10)\n",
    "        self.relu = nn.ReLU()\n",
    "        self.pool = nn.MaxPool2d(kernel_size=2)\n",
    "        self.logsoftmax = nn.LogSoftmax(dim = 1)\n",
    "\n",
    "    def forward(self, x):\n",
    "        x = self.conv1(x)\n",
    "        x = self.relu(x)\n",
    "        x = self.conv2(x)\n",
    "        x = self.relu(x)\n",
    "        x = self.pool(x)\n",
    "        x = self.dropout1(x)\n",
    "        x = torch.flatten(x, 1)\n",
    "        x = self.fc1(x)\n",
    "        x = self.relu(x)\n",
    "        x = self.dropout2(x)\n",
    "        x = self.fc2(x)\n",
    "        x = self.logsoftmax(x)\n",
    "        return x\n",
    "\n",
    "model = Net()\n",
    "model.to(torch.device(\"mps\"))"
   ]
  },
  {
   "cell_type": "code",
   "execution_count": 6,
   "metadata": {},
   "outputs": [
    {
     "name": "stdout",
     "output_type": "stream",
     "text": [
      "torch.Size([64, 10])\n"
     ]
    }
   ],
   "source": [
    "for img, label in train_loader:\n",
    "    print(model(img).shape)\n",
    "    break"
   ]
  },
  {
   "cell_type": "code",
   "execution_count": 53,
   "metadata": {},
   "outputs": [],
   "source": [
    "import torch.optim as optim\n",
    "from torch.optim.lr_scheduler import CosineAnnealingLR\n",
    "\n",
    "optimizer = optim.Adam(model.parameters(), lr=0.01)\n",
    "num_batches = len(train_loader)\n",
    "schduler = CosineAnnealingLR(optimizer, num_batches * 4.5, 0)\n",
    "loss_fn = nn.NLLLoss()"
   ]
  },
  {
   "cell_type": "code",
   "execution_count": 54,
   "metadata": {},
   "outputs": [
    {
     "name": "stdout",
     "output_type": "stream",
     "text": [
      "0: loss: 0.089366  [  256/60000] lr: 0.00999997793628279\n",
      "0: loss: 0.465066  [13056/60000] lr: 0.009942721923902106\n",
      "0: loss: 0.348949  [25856/60000] lr: 0.00977661137830554\n",
      "0: loss: 0.249123  [38656/60000] lr: 0.009505304584580038\n",
      "0: loss: 0.233347  [51456/60000] lr: 0.009134776585393183\n",
      "1: loss: 0.299617  [  256/60000] lr: 0.008820657446846741\n",
      "1: loss: 0.148486  [13056/60000] lr: 0.008301263562864149\n",
      "1: loss: 0.207932  [25856/60000] lr: 0.007709165304714678\n",
      "1: loss: 0.184065  [38656/60000] lr: 0.007057402568330402\n",
      "1: loss: 0.231727  [51456/60000] lr: 0.006360329252135888\n",
      "2: loss: 0.240985  [  256/60000] lr: 0.005853608876153383\n",
      "2: loss: 0.148642  [13056/60000] lr: 0.005115107291304366\n",
      "2: loss: 0.244406  [25856/60000] lr: 0.004374070676029285\n",
      "2: loss: 0.107316  [38656/60000] lr: 0.003646819024876398\n",
      "2: loss: 0.131690  [51456/60000] lr: 0.0029493687434286055\n",
      "3: loss: 0.169223  [  256/60000] lr: 0.002487147225501937\n",
      "3: loss: 0.226475  [13056/60000] lr: 0.0018750910388682395\n",
      "3: loss: 0.174685  [25856/60000] lr: 0.0013318553344593607\n",
      "3: loss: 0.127150  [38656/60000] lr: 0.0008694038986140938\n",
      "3: loss: 0.143465  [51456/60000] lr: 0.0004979213898989079\n",
      "4: loss: 0.123501  [  256/60000] lr: 0.0002964773152859182\n",
      "4: loss: 0.168550  [13056/60000] lr: 9.725441884025848e-05\n",
      "4: loss: 0.110850  [25856/60000] lr: 6.005648782848591e-06\n",
      "4: loss: 0.127660  [38656/60000] lr: 2.4740594652418168e-05\n",
      "4: loss: 0.105869  [51456/60000] lr: 0.00015304665306588089\n"
     ]
    }
   ],
   "source": [
    "model.train()\n",
    "device = torch.device(\"mps\")\n",
    "size = len(train_loader.dataset)\n",
    "for epoch in range(5):\n",
    "    for batch, (X, y) in enumerate(train_loader):\n",
    "        X, y = X.to(device), y.to(device)\n",
    "        # Compute prediction and loss\n",
    "        pred = model(X)\n",
    "        loss = loss_fn(pred, y)\n",
    "\n",
    "        # Backpropagation\n",
    "        loss.backward()\n",
    "        optimizer.step()\n",
    "        schduler.step()\n",
    "        optimizer.zero_grad()\n",
    "\n",
    "        if batch % 50 == 0:\n",
    "            loss, current = loss.item(), batch * 256 + len(X)\n",
    "            print(f\"{epoch}: loss: {loss:>7f}  [{current:>5d}/{size:>5d}] lr: {optimizer.param_groups[-1]['lr']}\")\n"
   ]
  },
  {
   "cell_type": "code",
   "execution_count": 55,
   "metadata": {},
   "outputs": [
    {
     "name": "stdout",
     "output_type": "stream",
     "text": [
      "Test Error: \n",
      " Accuracy: 98.4%, Avg loss: 0.050638 \n",
      "\n"
     ]
    }
   ],
   "source": [
    "model.eval()\n",
    "size = len(test_loader.dataset)\n",
    "num_batches = len(test_loader)\n",
    "test_loss, correct = 0, 0\n",
    "\n",
    "# Evaluating the model with torch.no_grad() ensures that no gradients are computed during test mode\n",
    "# also serves to reduce unnecessary gradient computations and memory usage for tensors with requires_grad=True\n",
    "with torch.no_grad():\n",
    "    for X, y in test_loader:\n",
    "        X, y = X.to(device), y.to(device)\n",
    "        pred = model(X)\n",
    "        test_loss += loss_fn(pred, y).item()\n",
    "        correct += (pred.argmax(1) == y).type(torch.float).sum().item()\n",
    "\n",
    "test_loss /= num_batches\n",
    "correct /= size\n",
    "print(f\"Test Error: \\n Accuracy: {(100*correct):>0.1f}%, Avg loss: {test_loss:>8f} \\n\")"
   ]
  },
  {
   "cell_type": "code",
   "execution_count": null,
   "metadata": {},
   "outputs": [],
   "source": []
  }
 ],
 "metadata": {
  "kernelspec": {
   "display_name": ".venv",
   "language": "python",
   "name": "python3"
  },
  "language_info": {
   "codemirror_mode": {
    "name": "ipython",
    "version": 3
   },
   "file_extension": ".py",
   "mimetype": "text/x-python",
   "name": "python",
   "nbconvert_exporter": "python",
   "pygments_lexer": "ipython3",
   "version": "3.9.6"
  }
 },
 "nbformat": 4,
 "nbformat_minor": 2
}
