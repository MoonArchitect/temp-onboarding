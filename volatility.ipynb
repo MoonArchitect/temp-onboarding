{
 "cells": [
  {
   "cell_type": "code",
   "execution_count": 2,
   "metadata": {},
   "outputs": [],
   "source": [
    "import numpy as np\n",
    "import scipy.stats as si\n",
    "\n",
    "def NORMSDIST(x):\n",
    "    NORMSDIST = si.norm.cdf(x,0.0,1.0)\n",
    "    return(NORMSDIST)"
   ]
  },
  {
   "cell_type": "code",
   "execution_count": 4,
   "metadata": {},
   "outputs": [],
   "source": [
    "def BlackScholesCall(S,X,r,T,σ):\n",
    "    d1 = ( (np.log(S/X)+(r+0.5*σ**2)*T) / (σ*np.sqrt(T)) )\n",
    "    d2 = ( (np.log(S/X)+(r-0.5*σ**2)*T) / (σ*np.sqrt(T)) )\n",
    "    val = S*NORMSDIST(d1) - X*np.exp(-r*T)*NORMSDIST(d2)\n",
    "    return val"
   ]
  },
  {
   "cell_type": "code",
   "execution_count": 5,
   "metadata": {},
   "outputs": [
    {
     "data": {
      "text/plain": [
       "np.float64(2.1333684449162007)"
      ]
     },
     "execution_count": 5,
     "metadata": {},
     "output_type": "execute_result"
    }
   ],
   "source": [
    "BlackScholesCall(60,65,0.08,0.25,0.3)"
   ]
  },
  {
   "cell_type": "code",
   "execution_count": 6,
   "metadata": {},
   "outputs": [],
   "source": [
    "def BlackScholesPut(S,X,r,T,σ):\n",
    "    d1 = ( (np.log(S/X)+(r+0.5*σ**2)*T) / (σ*np.sqrt(T)) )\n",
    "    d2 = ( (np.log(S/X)+(r-0.5*σ**2)*T) / (σ*np.sqrt(T)) )\n",
    "    v = X*np.exp(-r*T)*NORMSDIST(-d2) - S*NORMSDIST(-d1)\n",
    "    return v"
   ]
  },
  {
   "cell_type": "code",
   "execution_count": 7,
   "metadata": {},
   "outputs": [
    {
     "data": {
      "text/plain": [
       "np.float64(5.846282209855289)"
      ]
     },
     "execution_count": 7,
     "metadata": {},
     "output_type": "execute_result"
    }
   ],
   "source": [
    "BlackScholesPut(60,65,0.08,0.25,0.3)"
   ]
  },
  {
   "cell_type": "code",
   "execution_count": 18,
   "metadata": {},
   "outputs": [
    {
     "name": "stdout",
     "output_type": "stream",
     "text": [
      "[σ]= [0.3] , Object Function Value: 3.484313362434563\n",
      "[σ]= [0.315] , Object Function Value: 2.875505796423414\n",
      "[σ]= [0.33] , Object Function Value: 2.3216406803168996\n",
      "[σ]= [0.345] , Object Function Value: 1.824302385884282\n",
      "[σ]= [0.375] , Object Function Value: 1.0042984792630005\n",
      "[σ]= [0.405] , Object Function Value: 0.42378077162132366\n",
      "[σ]= [0.465] , Object Function Value: 0.003248764171490494\n",
      "[σ]= [0.525] , Object Function Value: 0.5928342627088702\n",
      "[σ]= [0.525] , Object Function Value: 0.5928342627088756\n",
      "[σ]= [0.435] , Object Function Value: 0.0886750219681547\n",
      "[σ]= [0.495] , Object Function Value: 0.1705731121633145\n",
      "[σ]= [0.45] , Object Function Value: 0.014536195173474816\n",
      "[σ]= [0.48] , Object Function Value: 0.05516262915341507\n",
      "[σ]= [0.4575] , Object Function Value: 0.001012813925879314\n",
      "[σ]= [0.45] , Object Function Value: 0.014536195173474816\n",
      "[σ]= [0.46125] , Object Function Value: 0.00015817488760285086\n",
      "[σ]= [0.465] , Object Function Value: 0.003248764171490494\n",
      "[σ]= [0.459375] , Object Function Value: 9.266926179498298e-05\n",
      "[σ]= [0.4575] , Object Function Value: 0.0010128139258795401\n",
      "[σ]= [0.4603125] , Object Function Value: 2.1741988183867997e-06\n",
      "[σ]= [0.46125] , Object Function Value: 0.00015817488760285086\n",
      "[σ]= [0.45984375] , Object Function Value: 1.66149259398638e-05\n",
      "[σ]= [0.46078125] , Object Function Value: 4.9357423191238314e-05\n",
      "[σ]= [0.46007813] , Object Function Value: 1.6922135912801408e-06\n",
      "[σ]= [0.45984375] , Object Function Value: 1.6614925939834837e-05\n",
      "[σ]= [0.46019531] , Object Function Value: 7.538231792914211e-09\n",
      "[σ]= [0.4603125] , Object Function Value: 2.1741988183763224e-06\n",
      "[σ]= [0.46013672] , Object Function Value: 3.68469007000284e-07\n",
      "Optimization terminated successfully.\n",
      "         Current function value: 0.000000\n",
      "         Iterations: 14\n",
      "         Function evaluations: 28\n"
     ]
    },
    {
     "data": {
      "text/plain": [
       "np.float64(0.46019531250000023)"
      ]
     },
     "execution_count": 18,
     "metadata": {},
     "output_type": "execute_result"
    }
   ],
   "source": [
    "from scipy.optimize import fmin\n",
    "\n",
    "S = 60\n",
    "X = 65\n",
    "r = 0.08\n",
    "T = 0.25\n",
    "cm = 4\n",
    "\n",
    "def ImpliedVolatilityPut(s):\n",
    "    d1 = ( (np.log(S/X)+(r+0.5*s[0]**2)*T) / (s[0]*np.sqrt(T)) )\n",
    "    d2 = ( (np.log(S/X)+(r-0.5*s[0]**2)*T) / (s[0]*np.sqrt(T)) )\n",
    "    of = (  S*NORMSDIST(d1) - X*np.exp(-r*T)*NORMSDIST(d2) ) - cm\n",
    "    val = of**2\n",
    "    print(\"[σ]=\",s,\", Object Function Value:\", val)\n",
    "    return(val)\n",
    "    \n",
    "s = fmin(ImpliedVolatilityPut, [0.3])\n",
    "s[0]"
   ]
  },
  {
   "cell_type": "code",
   "execution_count": 19,
   "metadata": {},
   "outputs": [
    {
     "name": "stdout",
     "output_type": "stream",
     "text": [
      "[σ]= [0.3] , Object Function Value: 4.638500319585817\n",
      "[σ]= [0.315] , Object Function Value: 3.931566727445799\n",
      "[σ]= [0.33] , Object Function Value: 3.2789218208780073\n",
      "[σ]= [0.345] , Object Function Value: 2.6822369212128043\n",
      "[σ]= [0.375] , Object Function Value: 1.6621221666992505\n",
      "[σ]= [0.405] , Object Function Value: 0.8799766353586941\n",
      "[σ]= [0.465] , Object Function Value: 0.052940627531564366\n",
      "[σ]= [0.525] , Object Function Value: 0.23316447719931666\n",
      "[σ]= [0.525] , Object Function Value: 0.23316447719931666\n",
      "[σ]= [0.495] , Object Function Value: 0.01585552991803539\n",
      "[σ]= [0.525] , Object Function Value: 0.23316447719931666\n",
      "[σ]= [0.48] , Object Function Value: 0.002726821504596422\n",
      "[σ]= [0.465] , Object Function Value: 0.05294062753156109\n",
      "[σ]= [0.4875] , Object Function Value: 0.0013556002689217805\n",
      "[σ]= [0.495] , Object Function Value: 0.01585552991803539\n",
      "[σ]= [0.48375] , Object Function Value: 5.9418808219064556e-05\n",
      "[σ]= [0.48] , Object Function Value: 0.002726821504596422\n",
      "[σ]= [0.485625] , Object Function Value: 0.0002117916772530184\n",
      "[σ]= [0.481875] , Object Function Value: 0.0008979448945771271\n",
      "[σ]= [0.4846875] , Object Function Value: 1.1709054314737831e-05\n",
      "[σ]= [0.485625] , Object Function Value: 0.0002117916772530184\n",
      "[σ]= [0.48421875] , Object Function Value: 4.594083133114502e-06\n",
      "[σ]= [0.48375] , Object Function Value: 5.9418808219064556e-05\n",
      "[σ]= [0.48445313] , Object Function Value: 4.0858005220131586e-07\n",
      "[σ]= [0.4846875] , Object Function Value: 1.1709054314737831e-05\n",
      "[σ]= [0.48433594] , Object Function Value: 5.656501438240308e-07\n",
      "[σ]= [0.48457031] , Object Function Value: 4.123004340681802e-06\n",
      "[σ]= [0.48439453] , Object Function Value: 3.1865140026835476e-09\n",
      "Optimization terminated successfully.\n",
      "         Current function value: 0.000000\n",
      "         Iterations: 14\n",
      "         Function evaluations: 28\n"
     ]
    },
    {
     "data": {
      "text/plain": [
       "np.float64(0.48439453125000015)"
      ]
     },
     "execution_count": 19,
     "metadata": {},
     "output_type": "execute_result"
    }
   ],
   "source": [
    "S = 60\n",
    "X = 65\n",
    "r = 0.08\n",
    "T = 0.25\n",
    "pm = 8\n",
    "\n",
    "def ImpliedVolatilityPut(s):\n",
    "    d1 = ( (np.log(S/X)+(r+0.5*s[0]**2)*T) / (s[0]*np.sqrt(T)) )\n",
    "    d2 = ( (np.log(S/X)+(r-0.5*s[0]**2)*T) / (s[0]*np.sqrt(T)) )\n",
    "    of = (  X*np.exp(-r*T)*NORMSDIST(-d2) - S*NORMSDIST(-d1) ) - pm\n",
    "    val = of**2\n",
    "    print(\"[σ]=\",s,\", Object Function Value:\", val)\n",
    "    return(val)\n",
    "    \n",
    "s = fmin(ImpliedVolatilityPut, [0.3])\n",
    "s[0]"
   ]
  },
  {
   "cell_type": "code",
   "execution_count": null,
   "metadata": {},
   "outputs": [],
   "source": []
  }
 ],
 "metadata": {
  "kernelspec": {
   "display_name": ".venv",
   "language": "python",
   "name": "python3"
  },
  "language_info": {
   "codemirror_mode": {
    "name": "ipython",
    "version": 3
   },
   "file_extension": ".py",
   "mimetype": "text/x-python",
   "name": "python",
   "nbconvert_exporter": "python",
   "pygments_lexer": "ipython3",
   "version": "3.9.6"
  }
 },
 "nbformat": 4,
 "nbformat_minor": 2
}
